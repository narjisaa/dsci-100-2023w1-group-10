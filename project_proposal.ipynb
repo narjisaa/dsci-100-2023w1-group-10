{
 "cells": [
  {
   "cell_type": "markdown",
   "id": "5f19413b-61c3-4098-98c3-642d77457be2",
   "metadata": {
    "tags": []
   },
   "source": [
    "# DSCI 100 Group 10: Project Proposal\n",
    "\n",
    "## Group Members:\n",
    "- Mohammed Samiul ISLAM SAMI\n",
    "- Narjis Alhusseini, 66272287\n",
    "- Yangyi Zhu, 67642025\n",
    "- Norman Wu, 24434375\n",
   ]
  },
  {
   "cell_type": "markdown",
   "id": "784e2971-94fc-485a-abd7-cba680f7b5cd",
   "metadata": {},
   "source": [
    "# Title: Predicting diabetic patients using the concentration of Glucose, Insulin, and BMI as predictors. "
   ]
  },
  {
   "cell_type": "markdown",
   "id": "91c51f4c-098c-4615-9d7a-3cc19cf4c8ec",
   "metadata": {},
   "source": [
    "## Introduction\n",
    "This data is about female diabetic patients of ages 21 and of the Pima Indian heritage.\n",
    "- Pregnancies (the number of pregnancies the patient had)\n",
    "    - Column name: **pregnancies**\n",
    "- Glucose ($mg/dL$)\n",
    "    - Column name: **glucose**\n",
    "- Blood Pressure ($mm\\,Hg$)\n",
    "    - Column name: **blood_pressure**\n",
    "- Skin Thickness ($mm$)\n",
    "    - Column name: **skin_thickness**\n",
    "- Insulin ($ mu U/ml$)\n",
    "    - Column name: **insulin**\n",
    "- BMI (Body Mass Index in $kg/m^2$)\n",
    "    - Column name: **bmi**\n",
    "- Diabetes pedigree function (Probability that a patient will have diabetes based on family history)\n",
    "    - Column name: **dpf**\n",
    "- Age (years)\n",
    "    - Column name: **age**\n",
    "- Outcome (a boolean value of whether they have diabetes, 1 is diabetic and 0 is non-diabetic)\n",
    "    - Column name: **outcome**\n",
    "\n",
    "\n",
    "\n",
    "UCI Machine Learning (2016). Pima Indians Diabetes Database. *kaggle*. https://www.kaggle.com/datasets/uciml/pima-indians-diabetes-database?select=diabetes.csv"
   ]
  },
  {
   "cell_type": "markdown",
   "id": "4ae7d7d1-993e-4eaf-a85f-0b7a2c44912b",
   "metadata": {},
   "source": [
    "## Exploratory data analysis\n",
    "The data has no missing values for any observation, but the there are some inconsistency of the data frame which are corrected to better fit the conventions and content we have been learning in DSCI 100. To start our exploratory data analysis, we first load our needed libraries and load the data into R using read_csv()."
   ]
  },
  {
   "cell_type": "code",
   "execution_count": 2,
   "id": "1d36814b-4ce4-422f-b0b6-73c62f759ee0",
   "metadata": {
    "tags": []
   },
   "outputs": [
    {
     "name": "stderr",
     "output_type": "stream",
     "text": [
      "── \u001b[1mAttaching packages\u001b[22m ─────────────────────────────────────── tidyverse 1.3.2 ──\n",
      "\u001b[32m✔\u001b[39m \u001b[34mggplot2\u001b[39m 3.4.2     \u001b[32m✔\u001b[39m \u001b[34mpurrr  \u001b[39m 1.0.1\n",
      "\u001b[32m✔\u001b[39m \u001b[34mtibble \u001b[39m 3.2.1     \u001b[32m✔\u001b[39m \u001b[34mdplyr  \u001b[39m 1.1.1\n",
      "\u001b[32m✔\u001b[39m \u001b[34mtidyr  \u001b[39m 1.3.0     \u001b[32m✔\u001b[39m \u001b[34mstringr\u001b[39m 1.5.0\n",
      "\u001b[32m✔\u001b[39m \u001b[34mreadr  \u001b[39m 2.1.3     \u001b[32m✔\u001b[39m \u001b[34mforcats\u001b[39m 0.5.2\n",
      "── \u001b[1mConflicts\u001b[22m ────────────────────────────────────────── tidyverse_conflicts() ──\n",
      "\u001b[31m✖\u001b[39m \u001b[34mdplyr\u001b[39m::\u001b[32mfilter()\u001b[39m masks \u001b[34mstats\u001b[39m::filter()\n",
      "\u001b[31m✖\u001b[39m \u001b[34mdplyr\u001b[39m::\u001b[32mlag()\u001b[39m    masks \u001b[34mstats\u001b[39m::lag()\n"
     ]
    }
   ],
   "source": [
    "library(tidyverse)"
   ]
  },
  {
   "cell_type": "code",
   "execution_count": 4,
   "id": "315f952c-dbba-4347-bda1-2ed098c457a4",
   "metadata": {
    "tags": []
   },
   "outputs": [
    {
     "name": "stderr",
     "output_type": "stream",
     "text": [
      "\u001b[1mRows: \u001b[22m\u001b[34m768\u001b[39m \u001b[1mColumns: \u001b[22m\u001b[34m9\u001b[39m\n",
      "\u001b[36m──\u001b[39m \u001b[1mColumn specification\u001b[22m \u001b[36m────────────────────────────────────────────────────────\u001b[39m\n",
      "\u001b[1mDelimiter:\u001b[22m \",\"\n",
      "\u001b[32mdbl\u001b[39m (9): Pregnancies, Glucose, BloodPressure, SkinThickness, Insulin, BMI, D...\n",
      "\n",
      "\u001b[36mℹ\u001b[39m Use `spec()` to retrieve the full column specification for this data.\n",
      "\u001b[36mℹ\u001b[39m Specify the column types or set `show_col_types = FALSE` to quiet this message.\n"
     ]
    },
    {
     "data": {
      "text/html": [
       "<table class=\"dataframe\">\n",
       "<caption>A tibble: 6 × 9</caption>\n",
       "<thead>\n",
       "\t<tr><th scope=col>Pregnancies</th><th scope=col>Glucose</th><th scope=col>BloodPressure</th><th scope=col>SkinThickness</th><th scope=col>Insulin</th><th scope=col>BMI</th><th scope=col>DiabetesPedigreeFunction</th><th scope=col>Age</th><th scope=col>Outcome</th></tr>\n",
       "\t<tr><th scope=col>&lt;dbl&gt;</th><th scope=col>&lt;dbl&gt;</th><th scope=col>&lt;dbl&gt;</th><th scope=col>&lt;dbl&gt;</th><th scope=col>&lt;dbl&gt;</th><th scope=col>&lt;dbl&gt;</th><th scope=col>&lt;dbl&gt;</th><th scope=col>&lt;dbl&gt;</th><th scope=col>&lt;dbl&gt;</th></tr>\n",
       "</thead>\n",
       "<tbody>\n",
       "\t<tr><td>6</td><td>148</td><td>72</td><td>35</td><td>  0</td><td>33.6</td><td>0.627</td><td>50</td><td>1</td></tr>\n",
       "\t<tr><td>1</td><td> 85</td><td>66</td><td>29</td><td>  0</td><td>26.6</td><td>0.351</td><td>31</td><td>0</td></tr>\n",
       "\t<tr><td>8</td><td>183</td><td>64</td><td> 0</td><td>  0</td><td>23.3</td><td>0.672</td><td>32</td><td>1</td></tr>\n",
       "\t<tr><td>1</td><td> 89</td><td>66</td><td>23</td><td> 94</td><td>28.1</td><td>0.167</td><td>21</td><td>0</td></tr>\n",
       "\t<tr><td>0</td><td>137</td><td>40</td><td>35</td><td>168</td><td>43.1</td><td>2.288</td><td>33</td><td>1</td></tr>\n",
       "\t<tr><td>5</td><td>116</td><td>74</td><td> 0</td><td>  0</td><td>25.6</td><td>0.201</td><td>30</td><td>0</td></tr>\n",
       "</tbody>\n",
       "</table>\n"
      ],
      "text/latex": [
       "A tibble: 6 × 9\n",
       "\\begin{tabular}{lllllllll}\n",
       " Pregnancies & Glucose & BloodPressure & SkinThickness & Insulin & BMI & DiabetesPedigreeFunction & Age & Outcome\\\\\n",
       " <dbl> & <dbl> & <dbl> & <dbl> & <dbl> & <dbl> & <dbl> & <dbl> & <dbl>\\\\\n",
       "\\hline\n",
       "\t 6 & 148 & 72 & 35 &   0 & 33.6 & 0.627 & 50 & 1\\\\\n",
       "\t 1 &  85 & 66 & 29 &   0 & 26.6 & 0.351 & 31 & 0\\\\\n",
       "\t 8 & 183 & 64 &  0 &   0 & 23.3 & 0.672 & 32 & 1\\\\\n",
       "\t 1 &  89 & 66 & 23 &  94 & 28.1 & 0.167 & 21 & 0\\\\\n",
       "\t 0 & 137 & 40 & 35 & 168 & 43.1 & 2.288 & 33 & 1\\\\\n",
       "\t 5 & 116 & 74 &  0 &   0 & 25.6 & 0.201 & 30 & 0\\\\\n",
       "\\end{tabular}\n"
      ],
      "text/markdown": [
       "\n",
       "A tibble: 6 × 9\n",
       "\n",
       "| Pregnancies &lt;dbl&gt; | Glucose &lt;dbl&gt; | BloodPressure &lt;dbl&gt; | SkinThickness &lt;dbl&gt; | Insulin &lt;dbl&gt; | BMI &lt;dbl&gt; | DiabetesPedigreeFunction &lt;dbl&gt; | Age &lt;dbl&gt; | Outcome &lt;dbl&gt; |\n",
       "|---|---|---|---|---|---|---|---|---|\n",
       "| 6 | 148 | 72 | 35 |   0 | 33.6 | 0.627 | 50 | 1 |\n",
       "| 1 |  85 | 66 | 29 |   0 | 26.6 | 0.351 | 31 | 0 |\n",
       "| 8 | 183 | 64 |  0 |   0 | 23.3 | 0.672 | 32 | 1 |\n",
       "| 1 |  89 | 66 | 23 |  94 | 28.1 | 0.167 | 21 | 0 |\n",
       "| 0 | 137 | 40 | 35 | 168 | 43.1 | 2.288 | 33 | 1 |\n",
       "| 5 | 116 | 74 |  0 |   0 | 25.6 | 0.201 | 30 | 0 |\n",
       "\n"
      ],
      "text/plain": [
       "  Pregnancies Glucose BloodPressure SkinThickness Insulin BMI \n",
       "1 6           148     72            35              0     33.6\n",
       "2 1            85     66            29              0     26.6\n",
       "3 8           183     64             0              0     23.3\n",
       "4 1            89     66            23             94     28.1\n",
       "5 0           137     40            35            168     43.1\n",
       "6 5           116     74             0              0     25.6\n",
       "  DiabetesPedigreeFunction Age Outcome\n",
       "1 0.627                    50  1      \n",
       "2 0.351                    31  0      \n",
       "3 0.672                    32  1      \n",
       "4 0.167                    21  0      \n",
       "5 2.288                    33  1      \n",
       "6 0.201                    30  0      "
      ]
     },
     "metadata": {},
     "output_type": "display_data"
    }
   ],
   "source": [
    "# This data downloaded from kaggle, https://www.kaggle.com/datasets/uciml/pima-indians-diabetes-database?select=diabetes.csv.\n",
    "# The csv file was downloaded and loaded onto github and the jupyter.\n",
    "\n",
    "diabetes_rawdata <- read_csv(\"data/diabetes.csv\")\n",
    "head(diabetes_rawdata)"
   ]
  },
  {
   "cell_type": "markdown",
   "id": "e42c5a75-b9d7-4044-b0ca-a3c7ec6b658f",
   "metadata": {},
   "source": [
    "To follow the convention we have been using in DSCI 100, we have decided to change the column names all to lower case with underscores separating each word for the expection of the column **DiabetesPedigreeFunction** which will abbreviated to **dpf**. Additionally, notice that **Outcome** is treated as a double instead of a factor. This is incorrect since outcome is a class variable."
   ]
  },
  {
   "cell_type": "code",
   "execution_count": 5,
   "id": "d1c1bfc4-2bb8-4a65-8d2c-073aa0e2fa62",
   "metadata": {
    "tags": []
   },
   "outputs": [
    {
     "data": {
      "text/html": [
       "<table class=\"dataframe\">\n",
       "<caption>A tibble: 6 × 9</caption>\n",
       "<thead>\n",
       "\t<tr><th scope=col>pregnancies</th><th scope=col>glucose</th><th scope=col>blood_pressure</th><th scope=col>skin_thickness</th><th scope=col>insulin</th><th scope=col>bmi</th><th scope=col>dpf</th><th scope=col>age</th><th scope=col>outcome</th></tr>\n",
       "\t<tr><th scope=col>&lt;dbl&gt;</th><th scope=col>&lt;dbl&gt;</th><th scope=col>&lt;dbl&gt;</th><th scope=col>&lt;dbl&gt;</th><th scope=col>&lt;dbl&gt;</th><th scope=col>&lt;dbl&gt;</th><th scope=col>&lt;dbl&gt;</th><th scope=col>&lt;dbl&gt;</th><th scope=col>&lt;dbl&gt;</th></tr>\n",
       "</thead>\n",
       "<tbody>\n",
       "\t<tr><td>6</td><td>148</td><td>72</td><td>35</td><td>  0</td><td>33.6</td><td>0.627</td><td>50</td><td>1</td></tr>\n",
       "\t<tr><td>1</td><td> 85</td><td>66</td><td>29</td><td>  0</td><td>26.6</td><td>0.351</td><td>31</td><td>0</td></tr>\n",
       "\t<tr><td>8</td><td>183</td><td>64</td><td> 0</td><td>  0</td><td>23.3</td><td>0.672</td><td>32</td><td>1</td></tr>\n",
       "\t<tr><td>1</td><td> 89</td><td>66</td><td>23</td><td> 94</td><td>28.1</td><td>0.167</td><td>21</td><td>0</td></tr>\n",
       "\t<tr><td>0</td><td>137</td><td>40</td><td>35</td><td>168</td><td>43.1</td><td>2.288</td><td>33</td><td>1</td></tr>\n",
       "\t<tr><td>5</td><td>116</td><td>74</td><td> 0</td><td>  0</td><td>25.6</td><td>0.201</td><td>30</td><td>0</td></tr>\n",
       "</tbody>\n",
       "</table>\n"
      ],
      "text/latex": [
       "A tibble: 6 × 9\n",
       "\\begin{tabular}{lllllllll}\n",
       " pregnancies & glucose & blood\\_pressure & skin\\_thickness & insulin & bmi & dpf & age & outcome\\\\\n",
       " <dbl> & <dbl> & <dbl> & <dbl> & <dbl> & <dbl> & <dbl> & <dbl> & <dbl>\\\\\n",
       "\\hline\n",
       "\t 6 & 148 & 72 & 35 &   0 & 33.6 & 0.627 & 50 & 1\\\\\n",
       "\t 1 &  85 & 66 & 29 &   0 & 26.6 & 0.351 & 31 & 0\\\\\n",
       "\t 8 & 183 & 64 &  0 &   0 & 23.3 & 0.672 & 32 & 1\\\\\n",
       "\t 1 &  89 & 66 & 23 &  94 & 28.1 & 0.167 & 21 & 0\\\\\n",
       "\t 0 & 137 & 40 & 35 & 168 & 43.1 & 2.288 & 33 & 1\\\\\n",
       "\t 5 & 116 & 74 &  0 &   0 & 25.6 & 0.201 & 30 & 0\\\\\n",
       "\\end{tabular}\n"
      ],
      "text/markdown": [
       "\n",
       "A tibble: 6 × 9\n",
       "\n",
       "| pregnancies &lt;dbl&gt; | glucose &lt;dbl&gt; | blood_pressure &lt;dbl&gt; | skin_thickness &lt;dbl&gt; | insulin &lt;dbl&gt; | bmi &lt;dbl&gt; | dpf &lt;dbl&gt; | age &lt;dbl&gt; | outcome &lt;dbl&gt; |\n",
       "|---|---|---|---|---|---|---|---|---|\n",
       "| 6 | 148 | 72 | 35 |   0 | 33.6 | 0.627 | 50 | 1 |\n",
       "| 1 |  85 | 66 | 29 |   0 | 26.6 | 0.351 | 31 | 0 |\n",
       "| 8 | 183 | 64 |  0 |   0 | 23.3 | 0.672 | 32 | 1 |\n",
       "| 1 |  89 | 66 | 23 |  94 | 28.1 | 0.167 | 21 | 0 |\n",
       "| 0 | 137 | 40 | 35 | 168 | 43.1 | 2.288 | 33 | 1 |\n",
       "| 5 | 116 | 74 |  0 |   0 | 25.6 | 0.201 | 30 | 0 |\n",
       "\n"
      ],
      "text/plain": [
       "  pregnancies glucose blood_pressure skin_thickness insulin bmi  dpf   age\n",
       "1 6           148     72             35               0     33.6 0.627 50 \n",
       "2 1            85     66             29               0     26.6 0.351 31 \n",
       "3 8           183     64              0               0     23.3 0.672 32 \n",
       "4 1            89     66             23              94     28.1 0.167 21 \n",
       "5 0           137     40             35             168     43.1 2.288 33 \n",
       "6 5           116     74              0               0     25.6 0.201 30 \n",
       "  outcome\n",
       "1 1      \n",
       "2 0      \n",
       "3 1      \n",
       "4 0      \n",
       "5 1      \n",
       "6 0      "
      ]
     },
     "metadata": {},
     "output_type": "display_data"
    }
   ],
   "source": [
    "colnames(diabetes_rawdata) <- c(\"pregnancies\", \"glucose\", \"blood_pressure\", \"skin_thickness\", \"insulin\", \"bmi\", \"dpf\", \"age\", \"outcome\")\n",
    "head(diabetes_rawdata)"
   ]
  },
  {
   "cell_type": "code",
   "execution_count": 6,
   "id": "c41bd5e1-fe07-4ee2-b4cf-7a66cfb47ca4",
   "metadata": {
    "tags": []
   },
   "outputs": [
    {
     "data": {
      "text/html": [
       "<table class=\"dataframe\">\n",
       "<caption>A tibble: 6 × 9</caption>\n",
       "<thead>\n",
       "\t<tr><th scope=col>pregnancies</th><th scope=col>glucose</th><th scope=col>blood_pressure</th><th scope=col>skin_thickness</th><th scope=col>insulin</th><th scope=col>bmi</th><th scope=col>dpf</th><th scope=col>age</th><th scope=col>outcome</th></tr>\n",
       "\t<tr><th scope=col>&lt;dbl&gt;</th><th scope=col>&lt;dbl&gt;</th><th scope=col>&lt;dbl&gt;</th><th scope=col>&lt;dbl&gt;</th><th scope=col>&lt;dbl&gt;</th><th scope=col>&lt;dbl&gt;</th><th scope=col>&lt;dbl&gt;</th><th scope=col>&lt;dbl&gt;</th><th scope=col>&lt;fct&gt;</th></tr>\n",
       "</thead>\n",
       "<tbody>\n",
       "\t<tr><td>6</td><td>148</td><td>72</td><td>35</td><td>  0</td><td>33.6</td><td>0.627</td><td>50</td><td>1</td></tr>\n",
       "\t<tr><td>1</td><td> 85</td><td>66</td><td>29</td><td>  0</td><td>26.6</td><td>0.351</td><td>31</td><td>0</td></tr>\n",
       "\t<tr><td>8</td><td>183</td><td>64</td><td> 0</td><td>  0</td><td>23.3</td><td>0.672</td><td>32</td><td>1</td></tr>\n",
       "\t<tr><td>1</td><td> 89</td><td>66</td><td>23</td><td> 94</td><td>28.1</td><td>0.167</td><td>21</td><td>0</td></tr>\n",
       "\t<tr><td>0</td><td>137</td><td>40</td><td>35</td><td>168</td><td>43.1</td><td>2.288</td><td>33</td><td>1</td></tr>\n",
       "\t<tr><td>5</td><td>116</td><td>74</td><td> 0</td><td>  0</td><td>25.6</td><td>0.201</td><td>30</td><td>0</td></tr>\n",
       "</tbody>\n",
       "</table>\n"
      ],
      "text/latex": [
       "A tibble: 6 × 9\n",
       "\\begin{tabular}{lllllllll}\n",
       " pregnancies & glucose & blood\\_pressure & skin\\_thickness & insulin & bmi & dpf & age & outcome\\\\\n",
       " <dbl> & <dbl> & <dbl> & <dbl> & <dbl> & <dbl> & <dbl> & <dbl> & <fct>\\\\\n",
       "\\hline\n",
       "\t 6 & 148 & 72 & 35 &   0 & 33.6 & 0.627 & 50 & 1\\\\\n",
       "\t 1 &  85 & 66 & 29 &   0 & 26.6 & 0.351 & 31 & 0\\\\\n",
       "\t 8 & 183 & 64 &  0 &   0 & 23.3 & 0.672 & 32 & 1\\\\\n",
       "\t 1 &  89 & 66 & 23 &  94 & 28.1 & 0.167 & 21 & 0\\\\\n",
       "\t 0 & 137 & 40 & 35 & 168 & 43.1 & 2.288 & 33 & 1\\\\\n",
       "\t 5 & 116 & 74 &  0 &   0 & 25.6 & 0.201 & 30 & 0\\\\\n",
       "\\end{tabular}\n"
      ],
      "text/markdown": [
       "\n",
       "A tibble: 6 × 9\n",
       "\n",
       "| pregnancies &lt;dbl&gt; | glucose &lt;dbl&gt; | blood_pressure &lt;dbl&gt; | skin_thickness &lt;dbl&gt; | insulin &lt;dbl&gt; | bmi &lt;dbl&gt; | dpf &lt;dbl&gt; | age &lt;dbl&gt; | outcome &lt;fct&gt; |\n",
       "|---|---|---|---|---|---|---|---|---|\n",
       "| 6 | 148 | 72 | 35 |   0 | 33.6 | 0.627 | 50 | 1 |\n",
       "| 1 |  85 | 66 | 29 |   0 | 26.6 | 0.351 | 31 | 0 |\n",
       "| 8 | 183 | 64 |  0 |   0 | 23.3 | 0.672 | 32 | 1 |\n",
       "| 1 |  89 | 66 | 23 |  94 | 28.1 | 0.167 | 21 | 0 |\n",
       "| 0 | 137 | 40 | 35 | 168 | 43.1 | 2.288 | 33 | 1 |\n",
       "| 5 | 116 | 74 |  0 |   0 | 25.6 | 0.201 | 30 | 0 |\n",
       "\n"
      ],
      "text/plain": [
       "  pregnancies glucose blood_pressure skin_thickness insulin bmi  dpf   age\n",
       "1 6           148     72             35               0     33.6 0.627 50 \n",
       "2 1            85     66             29               0     26.6 0.351 31 \n",
       "3 8           183     64              0               0     23.3 0.672 32 \n",
       "4 1            89     66             23              94     28.1 0.167 21 \n",
       "5 0           137     40             35             168     43.1 2.288 33 \n",
       "6 5           116     74              0               0     25.6 0.201 30 \n",
       "  outcome\n",
       "1 1      \n",
       "2 0      \n",
       "3 1      \n",
       "4 0      \n",
       "5 1      \n",
       "6 0      "
      ]
     },
     "metadata": {},
     "output_type": "display_data"
    }
   ],
   "source": [
    "diabetes_data <- diabetes_rawdata |>\n",
    "                 mutate(outcome = as_factor(outcome))\n",
    "head(diabetes_data)"
   ]
  },
  {
   "cell_type": "code",
   "execution_count": 7,
   "id": "76629ba2-0a39-4acb-8997-32597035afcb",
   "metadata": {
    "tags": []
   },
   "outputs": [
    {
     "name": "stderr",
     "output_type": "stream",
     "text": [
      "Warning message in mean.default(.x[[i]], ...):\n",
      "“argument is not numeric or logical: returning NA”\n"
     ]
    },
    {
     "data": {
      "text/html": [
       "<table class=\"dataframe\">\n",
       "<caption>A tibble: 1 × 9</caption>\n",
       "<thead>\n",
       "\t<tr><th scope=col>pregnancies</th><th scope=col>glucose</th><th scope=col>blood_pressure</th><th scope=col>skin_thickness</th><th scope=col>insulin</th><th scope=col>bmi</th><th scope=col>dpf</th><th scope=col>age</th><th scope=col>outcome</th></tr>\n",
       "\t<tr><th scope=col>&lt;dbl&gt;</th><th scope=col>&lt;dbl&gt;</th><th scope=col>&lt;dbl&gt;</th><th scope=col>&lt;dbl&gt;</th><th scope=col>&lt;dbl&gt;</th><th scope=col>&lt;dbl&gt;</th><th scope=col>&lt;dbl&gt;</th><th scope=col>&lt;dbl&gt;</th><th scope=col>&lt;dbl&gt;</th></tr>\n",
       "</thead>\n",
       "<tbody>\n",
       "\t<tr><td>3.845052</td><td>120.8945</td><td>69.10547</td><td>20.53646</td><td>79.79948</td><td>31.99258</td><td>0.4718763</td><td>33.24089</td><td>NA</td></tr>\n",
       "</tbody>\n",
       "</table>\n"
      ],
      "text/latex": [
       "A tibble: 1 × 9\n",
       "\\begin{tabular}{lllllllll}\n",
       " pregnancies & glucose & blood\\_pressure & skin\\_thickness & insulin & bmi & dpf & age & outcome\\\\\n",
       " <dbl> & <dbl> & <dbl> & <dbl> & <dbl> & <dbl> & <dbl> & <dbl> & <dbl>\\\\\n",
       "\\hline\n",
       "\t 3.845052 & 120.8945 & 69.10547 & 20.53646 & 79.79948 & 31.99258 & 0.4718763 & 33.24089 & NA\\\\\n",
       "\\end{tabular}\n"
      ],
      "text/markdown": [
       "\n",
       "A tibble: 1 × 9\n",
       "\n",
       "| pregnancies &lt;dbl&gt; | glucose &lt;dbl&gt; | blood_pressure &lt;dbl&gt; | skin_thickness &lt;dbl&gt; | insulin &lt;dbl&gt; | bmi &lt;dbl&gt; | dpf &lt;dbl&gt; | age &lt;dbl&gt; | outcome &lt;dbl&gt; |\n",
       "|---|---|---|---|---|---|---|---|---|\n",
       "| 3.845052 | 120.8945 | 69.10547 | 20.53646 | 79.79948 | 31.99258 | 0.4718763 | 33.24089 | NA |\n",
       "\n"
      ],
      "text/plain": [
       "  pregnancies glucose  blood_pressure skin_thickness insulin  bmi     \n",
       "1 3.845052    120.8945 69.10547       20.53646       79.79948 31.99258\n",
       "  dpf       age      outcome\n",
       "1 0.4718763 33.24089 NA     "
      ]
     },
     "metadata": {},
     "output_type": "display_data"
    }
   ],
   "source": [
    "diabetes_mean <- diabetes_data |>\n",
    "                 map_df(mean)\n",
    "diabetes_mean"
   ]
  },
  {
   "cell_type": "markdown",
   "id": "a9c1349f-6562-416f-b8ea-d29f479954b7",
   "metadata": {},
   "source": [
    "## Methods"
   ]
  },
  {
   "cell_type": "code",
   "execution_count": null,
   "id": "07ad4b14-57ed-42fc-bed1-83fa27136e9c",
   "metadata": {},
   "outputs": [],
   "source": []
  }
 ],
 "metadata": {
  "kernelspec": {
   "display_name": "R",
   "language": "R",
   "name": "ir"
  },
  "language_info": {
   "codemirror_mode": "r",
   "file_extension": ".r",
   "mimetype": "text/x-r-source",
   "name": "R",
   "pygments_lexer": "r",
   "version": "4.2.2"
  }
 },
 "nbformat": 4,
 "nbformat_minor": 5
}
