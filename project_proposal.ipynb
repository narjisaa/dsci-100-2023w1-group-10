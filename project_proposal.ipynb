{
 "cells": [
  {
   "cell_type": "markdown",
   "id": "5f19413b-61c3-4098-98c3-642d77457be2",
   "metadata": {
    "tags": []
   },
   "source": [
    "# DSCI 100 Group 10: Project Proposal\n",
    "\n",
    "## Group Members:\n",
    "- Mohammed Samiul ISLAM SAMI, 58031451\n",
    "- Narjis Alhusseini, 66272287\n",
    "- Yangyi Zhu, 67642025\n",
    "- Norman Wu, 24434375\n"
   ]
  },
  {
   "cell_type": "markdown",
   "id": "784e2971-94fc-485a-abd7-cba680f7b5cd",
   "metadata": {},
   "source": [
    "# Predicting diabetic patients using the concentration of Glucose, Insulin, and BMI as predictors. "
   ]
  },
  {
   "cell_type": "markdown",
   "id": "91c51f4c-098c-4615-9d7a-3cc19cf4c8ec",
   "metadata": {},
   "source": [
    "## Introduction\n",
    "Diabetes Mellitus is a health condition which affects how an individual’s body processes the sugar, glucose. Both type 1 and type 2 diabetes patients have a low concentration of the hormone, insulin, which typically promotes the uptake of glucose into cells as a source of stored energy. Therefore, lower levels of insulin will lead to increased levels of blood glucose ultimately resulting in the chronic illness of diabetes. \n",
    "\n",
    "Using our Kaggle derived dataset originally sourced from the National Institute of Diabetes and Digestive and Kidney Diseases, we will work to answer the question: can glucose concentration, insulin levels, and Body Mass Index (BMI) data determine whether an individual has diabetes?\n",
    "\n",
    "The presented dataset is about female diabetic patients of ages 21 or older from the Pima Indian heritage. The following columns are included: \n",
    "\n",
    "- Pregnancies (the number of pregnancies the patient had)\n",
    "    - **pregnancies**\n",
    "- Glucose (Plasma glucose concentration, a 2 hour oral glucose tolerance test. $mg/dL$)\n",
    "    - **glucose**\n",
    "- Blood Pressure (Diastolic blood pressure in $mm\\,Hg$)\n",
    "    - **blood_pressure**\n",
    "- Skin Thickness (Triceps skin fold thickness in $mm$)\n",
    "    - **skin_thickness**\n",
    "- Insulin (2 Hour serum insulin in $\\mu U/mL$)\n",
    "    - **insulin**\n",
    "- BMI (Body Mass Index in $kg/m^2$)\n",
    "    - **bmi**\n",
    "- Diabetes pedigree function (uncommon genetic measure of the likelihood that a patient will have diabetes based on family history)\n",
    "    - **dpf**\n",
    "- Age (years)\n",
    "    - **age**\n",
    "- Outcome (a value indicating whether or not the patient is diabetic)\n",
    "    - **outcome**"
   ]
  },
  {
   "cell_type": "markdown",
   "id": "4ae7d7d1-993e-4eaf-a85f-0b7a2c44912b",
   "metadata": {},
   "source": [
    "## Preliminary Exploratory Data Analysis \n",
    "The data does have some missing values where they opted to use 0 instead, I fixed this by replacing the values with NA. Additionally, there are some inconsistencies in the dataframe which need to be corrected to better fit the conventions of DSCI 100."
   ]
  },
  {
   "cell_type": "code",
   "execution_count": null,
   "id": "1d36814b-4ce4-422f-b0b6-73c62f759ee0",
   "metadata": {
    "tags": []
   },
   "outputs": [],
   "source": [
    "library(tidyverse)\n",
    "library(ggplot2)\n",
    "library(repr)"
   ]
  },
  {
   "cell_type": "code",
   "execution_count": null,
   "id": "315f952c-dbba-4347-bda1-2ed098c457a4",
   "metadata": {
    "tags": []
   },
   "outputs": [],
   "source": [
    "# This data downloaded from kaggle, https://www.kaggle.com/datasets/uciml/pima-indians-diabetes-database?select=diabetes.csv.\n",
    "# The csv file was downloaded and loaded onto github and the jupyter.\n",
    "download.file(\"https://raw.githubusercontent.com/narjisaa/dsci-100-2023w1-group-10/main/diabetes.csv\", \"data/diabetes.csv\")\n",
    "diabetes_data <- read_csv(\"data/diabetes.csv\")\n",
    "head(diabetes_data)"
   ]
  },
  {
   "cell_type": "code",
   "execution_count": null,
   "id": "d1c1bfc4-2bb8-4a65-8d2c-073aa0e2fa62",
   "metadata": {
    "tags": []
   },
   "outputs": [],
   "source": [
    "# Cleaned column names\n",
    "colnames(diabetes_data) <- c(\"pregnancies\", \"glucose\", \"blood_pressure\", \"skin_thickness\", \"insulin\", \"bmi\", \"dpf\", \"age\", \"outcome\")\n",
    "head(diabetes_data)\n",
    "\n",
    "# Casted outcame into chr to change names\n",
    "class(diabetes_data$outcome) = \"chr\"\n",
    "head(diabetes_data)"
   ]
  },
  {
   "cell_type": "code",
   "execution_count": null,
   "id": "7cc4857b-99f5-4f43-98e5-1057ef9f248c",
   "metadata": {
    "tags": []
   },
   "outputs": [],
   "source": [
    "# Replace all 0 with NA\n",
    "diabetes_data$glucose[diabetes_data$glucose == 0] <- NA\n",
    "diabetes_data$skin_thickness[diabetes_data$skin_thickness == 0] <- NA\n",
    "diabetes_data$insulin[diabetes_data$insulin == 0] <- NA\n",
    "diabetes_data$bmi[diabetes_data$bmi == 0] <- NA\n",
    "diabetes_data$dpf[diabetes_data$dpf == 0] <- NA\n",
    "diabetes_data$age[diabetes_data$age == 0] <- NA\n",
    "\n",
    "# Change all 0 to non-diabetic and all 1 to diabetic\n",
    "diabetes_data$outcome[diabetes_data$outcome == 0] <- \"non-diabetic\"\n",
    "diabetes_data$outcome[diabetes_data$outcome == 1] <- \"diabetic\"\n",
    "\n",
    "# Casting outcome into factor\n",
    "diabetes_data <- diabetes_data |>\n",
    "                 mutate(outcome = as.factor(outcome))\n",
    "\n",
    "head(diabetes_data)"
   ]
  },
  {
   "cell_type": "code",
   "execution_count": null,
   "id": "76629ba2-0a39-4acb-8997-32597035afcb",
   "metadata": {
    "tags": []
   },
   "outputs": [],
   "source": [
    "diabetes_mean0 <- diabetes_data |>\n",
    "                 filter(outcome == \"non-diabetic\") |>\n",
    "                 map_df(mean, na.rm = TRUE) |>\n",
    "                 mutate(outcome = \"non-diabetic\")\n",
    "diabetes_mean1 <- diabetes_data |>\n",
    "                 filter(outcome == \"diabetic\") |>\n",
    "                 map_df(mean, na.rm = TRUE) |>\n",
    "                 mutate(outcome = \"diabetic\")\n",
    "diabetes_means <- diabetes_mean0 |>\n",
    "                  add_row(diabetes_mean1)\n",
    "diabetes_means"
   ]
  },
  {
   "cell_type": "markdown",
   "id": "ad152342-0805-4289-b2a7-5fceb3bd27ab",
   "metadata": {},
   "source": [
    "Here we can see some idea of how can a person with diabetes differ from a person without. The pregnancies, blood glucose level and insulin levels of the non-diabetic is generally lower. The average glucose level according to Kudva (2023) for a fasting person (glucose tests were taken when they were fasting) is less than 100 $mg/dL$ and under 125 $mg/dL$ is prediabetes, anything over could be diabetes. "
   ]
  },
  {
   "cell_type": "code",
   "execution_count": null,
   "id": "9257e84f-a513-451f-8e92-d68035657b09",
   "metadata": {
    "tags": []
   },
   "outputs": [],
   "source": [
    "# Since we will be using K-nearest algorithm to classify whether a observation is diabetic or not, \n",
    "# we should see whether there is vast difference in amount of the data for both sides.\n",
    "diabetes_count <- diabetes_data |>\n",
    "                  group_by(outcome) |>\n",
    "                  summarize(count = n())\n",
    "\n",
    "options(repr.plot.height = 10, repr.plot.width = 5)\n",
    "count_plot <- ggplot(diabetes_count,aes(x=outcome,y=count)) +\n",
    "              geom_bar(stat = \"identity\", fill=\"steelblue\") +\n",
    "              labs(x = \"Type of patient\", y = \"Frequency\")\n",
    "count_plot"
   ]
  },
  {
   "cell_type": "markdown",
   "id": "a8e8e5fb-e439-4d98-b421-72e8124f3e0b",
   "metadata": {
    "tags": []
   },
   "source": [
    "As shown here, there is a bias in the data, therefore when using the K-nearest algorithm we should adjust the data such that equal parts are being used. Additionally, normalizing the data is important."
   ]
  },
  {
   "cell_type": "code",
   "execution_count": null,
   "id": "a5fb7b05-0d18-46e3-8a4d-1ad0ea7141dd",
   "metadata": {
    "tags": []
   },
   "outputs": [],
   "source": [
    "options(repr.plot.height = 10, repr.plot.width = 5)\n",
    "diabetic_explore <- ggplot(diabetes_data, aes(x = glucose, y = insulin)) +\n",
    "                    geom_point(aes(color = outcome)) +\n",
    "                    labs(x = \"Glucose levels in milligrams per deciliter in (mg/dL)\",\n",
    "                         y = \"Insulin levels in microunits per milliliter in (mu U/mL)\",\n",
    "                         color = \"Type of patient\",\n",
    "                        title = \"Preliminary plot\")\n",
    "diabetic_explore"
   ]
  },
  {
   "cell_type": "markdown",
   "id": "a9c1349f-6562-416f-b8ea-d29f479954b7",
   "metadata": {},
   "source": [
    "## Methods"
   ]
  },
  {
   "cell_type": "markdown",
   "id": "6ca046a3-3e52-4284-965e-18defbaec188",
   "metadata": {
    "tags": []
   },
   "source": [
    "Our data analysis will be conducted using the “k-nearest neighbors” algorithm, a machine learning technique often used for classification tasks. For our specific data set, three predictors will be used; glucose levels, insulin levels, and BMI (Body Mass Index). The results of the “k-nearest neighbors” algorithm will be visualized via a scatter plot containing glucose levels on the x-axis, insulin on the y-axis, and color coded with two colors meaning either diabetes or no diabetes. "
   ]
  },
  {
   "cell_type": "markdown",
   "id": "24e9db40-bf20-4c43-92e2-d4009ca69465",
   "metadata": {
    "tags": []
   },
   "source": [
    "## Expected Outcomes and Significance"
   ]
  },
  {
   "cell_type": "markdown",
   "id": "4f7188b3-de00-4612-ab17-4461d3c4c1c4",
   "metadata": {},
   "source": [
    "We expect that new patient observations with high BMI, high glucose concentrations, and low insulin levels, with respect to the dataset’s nearest neighbors in these regions will also be classified as diabetic.\n",
    "\n",
    "These findings could impact a patient’s lifestyle such as influencing them to lean towards a healthy lifestyle with lower sugar intake in case the classification indicates that they are falling within the diabetic range.\n",
    "\n",
    "The finding of this data analysis could lead to researchers wanting to find whether the data presented is similar for male patients. Since this dataset is based around all female patients, future research could look into whether male diabetes falls within the same ranges.\n"
   ]
  },
  {
   "cell_type": "markdown",
   "id": "05e5eb6a-2f88-44ad-a13c-a29675e6c761",
   "metadata": {},
   "source": [
    "## Citations\n",
    "\n",
    "Centers for Disease Control and Prevention (2023). What is Diabetes? *cdc.gov*. https://www.cdc.gov/diabetes/basics/diabetes.htmlOur\n",
    "\n",
    "Kudva Y. (2023). Diabetes. *Mayo Clinic*. https://www.mayoclinic.org/diseases-conditions/diabetes/diagnosis-treatment/drc-20371451\n",
    "\n",
    "UCI Machine Learning (2016). Pima Indians Diabetes Database. *kaggle*. https://www.kaggle.com/datasets/uciml/pima-indians-diabetes-database?select=diabetes.csv"
   ]
  }
 ],
 "metadata": {
  "kernelspec": {
   "display_name": "R",
   "language": "R",
   "name": "ir"
  },
  "language_info": {
   "codemirror_mode": "r",
   "file_extension": ".r",
   "mimetype": "text/x-r-source",
   "name": "R",
   "pygments_lexer": "r",
   "version": "4.2.2"
  }
 },
 "nbformat": 4,
 "nbformat_minor": 5
}
