{
 "cells": [
  {
   "cell_type": "markdown",
   "id": "8849eaf0-ff4a-4aad-8567-7765c9e2833f",
   "metadata": {},
   "source": [
    "# DSCI 100 Group 10: Project \n"
   ]
  },
  {
   "cell_type": "code",
   "execution_count": null,
   "id": "a72faa6a-6927-4aec-a063-552d2e6b744c",
   "metadata": {},
   "outputs": [],
   "source": []
  }
 ],
 "metadata": {
  "kernelspec": {
   "display_name": "R",
   "language": "R",
   "name": "ir"
  },
  "language_info": {
   "codemirror_mode": "r",
   "file_extension": ".r",
   "mimetype": "text/x-r-source",
   "name": "R",
   "pygments_lexer": "r",
   "version": "4.2.2"
  }
 },
 "nbformat": 4,
 "nbformat_minor": 5
}
