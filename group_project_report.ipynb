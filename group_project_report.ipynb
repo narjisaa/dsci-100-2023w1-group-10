{
 "cells": [
  {
   "cell_type": "markdown",
   "id": "8849eaf0-ff4a-4aad-8567-7765c9e2833f",
   "metadata": {},
   "source": [
    "# DSCI 100 Group 10: Project \n"
   ]
  },
  {
   "cell_type": "markdown",
   "id": "7a8994cc-4307-44a9-81a8-01056f94a625",
   "metadata": {},
   "source": [
    "# **TO DO LIST FOR INTRODUCTION**\n",
    "## - Background information on the topic so people can understand the rest of the report\n",
    "## - **Clearly** state the question we are trying to answer\n",
    "## - Identify and describe the dataset used to answer the question"
   ]
  },
  {
   "cell_type": "markdown",
   "id": "7dc0d605-7beb-4263-8797-1f61571f906e",
   "metadata": {},
   "source": [
    "# **TO DO LIST FOR METHODS**\n",
    "## - Load the data from the web (pref from the original source, github if not)\n",
    "## - Tidy, clean and wrangle the data\n",
    "## - Summary of the data for exploratory reasons\n",
    "## - Figures of the data for exploratory reasons\n",
    "## - Data analysis (throughout, have plots)\n",
    "#### - Splitting the data into training and testing\n",
    "#### - Creating the kknn algorithm using the training dataset (using k-folds as well)\n",
    "#### - Testing the algorithm using the testing set\n",
    "#### - A analysis of accuracy (metrics)\n",
    "## - A final summary plot"
   ]
  },
  {
   "cell_type": "markdown",
   "id": "34fa4760-21f6-4b70-b1b9-27c6f1532cca",
   "metadata": {},
   "source": [
    "# **TO DO LIST FOR DISCUSSION**\n",
    "## - Summary\n",
    "## - Expectations (hypothesis), impact of the finding (application to irl) and future question\n"
   ]
  },
  {
   "cell_type": "markdown",
   "id": "eb14e5fb-fb3b-4088-b743-0641927d3c21",
   "metadata": {},
   "source": [
    "# **THINGS TO KEEP IN MIND**\n",
    "#### - Use set.seed()\n",
    "#### - Lack of explanation for the predictor variables\n",
    "#### - Visuals do not have titles or labels\n",
    "#### - All figures and tables should have table/figure number and legend (when applicable)\n",
    "#### - Our reasoning is off, we need to improve our reasoning"
   ]
  },
  {
   "cell_type": "code",
   "execution_count": null,
   "id": "567b5caf-d3e8-430f-9e5b-a1f45ec2047a",
   "metadata": {},
   "outputs": [],
   "source": []
  }
 ],
 "metadata": {
  "kernelspec": {
   "display_name": "R",
   "language": "R",
   "name": "ir"
  },
  "language_info": {
   "codemirror_mode": "r",
   "file_extension": ".r",
   "mimetype": "text/x-r-source",
   "name": "R",
   "pygments_lexer": "r",
   "version": "4.2.2"
  }
 },
 "nbformat": 4,
 "nbformat_minor": 5
}
