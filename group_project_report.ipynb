{
 "cells": [
  {
   "cell_type": "markdown",
   "id": "8849eaf0-ff4a-4aad-8567-7765c9e2833f",
   "metadata": {},
   "source": [
    "# DSCI 100 Group 10: Project \n"
   ]
  },
  {
   "cell_type": "markdown",
   "id": "7a8994cc-4307-44a9-81a8-01056f94a625",
   "metadata": {},
   "source": [
    "# **TO DO LIST FOR INTRODUCTION** (Najris) (500 words)\n",
    "## - Background information on the topic so people can understand the rest of the report\n",
    "## - **Clearly** state the question we are trying to answer\n",
    "## - Identify and describe the dataset used to answer the question"
   ]
  },
  {
   "cell_type": "markdown",
   "id": "7dc0d605-7beb-4263-8797-1f61571f906e",
   "metadata": {},
   "source": [
    "# **TO DO LIST FOR METHODS** (All) (800 words)\n",
    "## - Load the data from the web (pref from the original source, github if not) (Sami)\n",
    "## - Tidy, clean and wrangle the data (Sami)\n",
    "## - Summary of the data for exploratory reasons (Norman)\n",
    "## - Figures of the data for exploratory reasons (Norman)\n",
    "## - Data analysis (throughout, have plots) (Jackie)\n",
    "#### - Splitting the data into training and testing\n",
    "#### - Creating the kknn algorithm using the training dataset (using k-folds as well)\n",
    "#### - Testing the algorithm using the testing set\n",
    "#### - A analysis of accuracy (metrics)\n",
    "## - A final summary plot (Sami)"
   ]
  },
  {
   "cell_type": "code",
   "execution_count": 3,
   "id": "f9748968-d312-4633-af08-85e0ff139b11",
   "metadata": {
    "tags": []
   },
   "outputs": [
    {
     "name": "stderr",
     "output_type": "stream",
     "text": [
      "── \u001b[1mAttaching packages\u001b[22m ─────────────────────────────────────── tidyverse 1.3.2 ──\n",
      "\u001b[32m✔\u001b[39m \u001b[34mggplot2\u001b[39m 3.4.2     \u001b[32m✔\u001b[39m \u001b[34mpurrr  \u001b[39m 1.0.1\n",
      "\u001b[32m✔\u001b[39m \u001b[34mtibble \u001b[39m 3.2.1     \u001b[32m✔\u001b[39m \u001b[34mdplyr  \u001b[39m 1.1.1\n",
      "\u001b[32m✔\u001b[39m \u001b[34mtidyr  \u001b[39m 1.3.0     \u001b[32m✔\u001b[39m \u001b[34mstringr\u001b[39m 1.5.0\n",
      "\u001b[32m✔\u001b[39m \u001b[34mreadr  \u001b[39m 2.1.3     \u001b[32m✔\u001b[39m \u001b[34mforcats\u001b[39m 0.5.2\n",
      "── \u001b[1mConflicts\u001b[22m ────────────────────────────────────────── tidyverse_conflicts() ──\n",
      "\u001b[31m✖\u001b[39m \u001b[34mdplyr\u001b[39m::\u001b[32mfilter()\u001b[39m masks \u001b[34mstats\u001b[39m::filter()\n",
      "\u001b[31m✖\u001b[39m \u001b[34mdplyr\u001b[39m::\u001b[32mlag()\u001b[39m    masks \u001b[34mstats\u001b[39m::lag()\n"
     ]
    }
   ],
   "source": [
    "library(tidyverse)\n",
    "library(ggplot2)\n",
    "library(repr)"
   ]
  },
  {
   "cell_type": "code",
   "execution_count": 4,
   "id": "c0bb2c79-aa9e-4be8-b2fc-45dd3786b6f3",
   "metadata": {
    "tags": []
   },
   "outputs": [
    {
     "name": "stderr",
     "output_type": "stream",
     "text": [
      "\u001b[1mRows: \u001b[22m\u001b[34m768\u001b[39m \u001b[1mColumns: \u001b[22m\u001b[34m9\u001b[39m\n",
      "\u001b[36m──\u001b[39m \u001b[1mColumn specification\u001b[22m \u001b[36m────────────────────────────────────────────────────────\u001b[39m\n",
      "\u001b[1mDelimiter:\u001b[22m \",\"\n",
      "\u001b[32mdbl\u001b[39m (9): Pregnancies, Glucose, BloodPressure, SkinThickness, Insulin, BMI, D...\n",
      "\n",
      "\u001b[36mℹ\u001b[39m Use `spec()` to retrieve the full column specification for this data.\n",
      "\u001b[36mℹ\u001b[39m Specify the column types or set `show_col_types = FALSE` to quiet this message.\n"
     ]
    }
   ],
   "source": [
    "#!!!This will have an issue if there is no data folder, fix later.\n",
    "\n",
    "download.file(\"https://raw.githubusercontent.com/narjisaa/dsci-100-2023w1-group-10/main/data/diabetes.csv\", \"data/diabetes.csv\")\n",
    "diabetes_data <- read_csv(\"data/diabetes.csv\")"
   ]
  },
  {
   "cell_type": "code",
   "execution_count": 5,
   "id": "65409ca3-beee-4f7e-9779-1cac0baf0ee1",
   "metadata": {
    "tags": []
   },
   "outputs": [
    {
     "data": {
      "text/html": [
       "<table class=\"dataframe\">\n",
       "<caption>A tibble: 6 × 9</caption>\n",
       "<thead>\n",
       "\t<tr><th scope=col>pregnancies</th><th scope=col>glucose</th><th scope=col>blood_pressure</th><th scope=col>skin_thickness</th><th scope=col>insulin</th><th scope=col>bmi</th><th scope=col>dpf</th><th scope=col>age</th><th scope=col>outcome</th></tr>\n",
       "\t<tr><th scope=col>&lt;dbl&gt;</th><th scope=col>&lt;dbl&gt;</th><th scope=col>&lt;dbl&gt;</th><th scope=col>&lt;dbl&gt;</th><th scope=col>&lt;dbl&gt;</th><th scope=col>&lt;dbl&gt;</th><th scope=col>&lt;dbl&gt;</th><th scope=col>&lt;dbl&gt;</th><th scope=col>&lt;dbl&gt;</th></tr>\n",
       "</thead>\n",
       "<tbody>\n",
       "\t<tr><td>6</td><td>148</td><td>72</td><td>35</td><td>  0</td><td>33.6</td><td>0.627</td><td>50</td><td>1</td></tr>\n",
       "\t<tr><td>1</td><td> 85</td><td>66</td><td>29</td><td>  0</td><td>26.6</td><td>0.351</td><td>31</td><td>0</td></tr>\n",
       "\t<tr><td>8</td><td>183</td><td>64</td><td> 0</td><td>  0</td><td>23.3</td><td>0.672</td><td>32</td><td>1</td></tr>\n",
       "\t<tr><td>1</td><td> 89</td><td>66</td><td>23</td><td> 94</td><td>28.1</td><td>0.167</td><td>21</td><td>0</td></tr>\n",
       "\t<tr><td>0</td><td>137</td><td>40</td><td>35</td><td>168</td><td>43.1</td><td>2.288</td><td>33</td><td>1</td></tr>\n",
       "\t<tr><td>5</td><td>116</td><td>74</td><td> 0</td><td>  0</td><td>25.6</td><td>0.201</td><td>30</td><td>0</td></tr>\n",
       "</tbody>\n",
       "</table>\n"
      ],
      "text/latex": [
       "A tibble: 6 × 9\n",
       "\\begin{tabular}{lllllllll}\n",
       " pregnancies & glucose & blood\\_pressure & skin\\_thickness & insulin & bmi & dpf & age & outcome\\\\\n",
       " <dbl> & <dbl> & <dbl> & <dbl> & <dbl> & <dbl> & <dbl> & <dbl> & <dbl>\\\\\n",
       "\\hline\n",
       "\t 6 & 148 & 72 & 35 &   0 & 33.6 & 0.627 & 50 & 1\\\\\n",
       "\t 1 &  85 & 66 & 29 &   0 & 26.6 & 0.351 & 31 & 0\\\\\n",
       "\t 8 & 183 & 64 &  0 &   0 & 23.3 & 0.672 & 32 & 1\\\\\n",
       "\t 1 &  89 & 66 & 23 &  94 & 28.1 & 0.167 & 21 & 0\\\\\n",
       "\t 0 & 137 & 40 & 35 & 168 & 43.1 & 2.288 & 33 & 1\\\\\n",
       "\t 5 & 116 & 74 &  0 &   0 & 25.6 & 0.201 & 30 & 0\\\\\n",
       "\\end{tabular}\n"
      ],
      "text/markdown": [
       "\n",
       "A tibble: 6 × 9\n",
       "\n",
       "| pregnancies &lt;dbl&gt; | glucose &lt;dbl&gt; | blood_pressure &lt;dbl&gt; | skin_thickness &lt;dbl&gt; | insulin &lt;dbl&gt; | bmi &lt;dbl&gt; | dpf &lt;dbl&gt; | age &lt;dbl&gt; | outcome &lt;dbl&gt; |\n",
       "|---|---|---|---|---|---|---|---|---|\n",
       "| 6 | 148 | 72 | 35 |   0 | 33.6 | 0.627 | 50 | 1 |\n",
       "| 1 |  85 | 66 | 29 |   0 | 26.6 | 0.351 | 31 | 0 |\n",
       "| 8 | 183 | 64 |  0 |   0 | 23.3 | 0.672 | 32 | 1 |\n",
       "| 1 |  89 | 66 | 23 |  94 | 28.1 | 0.167 | 21 | 0 |\n",
       "| 0 | 137 | 40 | 35 | 168 | 43.1 | 2.288 | 33 | 1 |\n",
       "| 5 | 116 | 74 |  0 |   0 | 25.6 | 0.201 | 30 | 0 |\n",
       "\n"
      ],
      "text/plain": [
       "  pregnancies glucose blood_pressure skin_thickness insulin bmi  dpf   age\n",
       "1 6           148     72             35               0     33.6 0.627 50 \n",
       "2 1            85     66             29               0     26.6 0.351 31 \n",
       "3 8           183     64              0               0     23.3 0.672 32 \n",
       "4 1            89     66             23              94     28.1 0.167 21 \n",
       "5 0           137     40             35             168     43.1 2.288 33 \n",
       "6 5           116     74              0               0     25.6 0.201 30 \n",
       "  outcome\n",
       "1 1      \n",
       "2 0      \n",
       "3 1      \n",
       "4 0      \n",
       "5 1      \n",
       "6 0      "
      ]
     },
     "metadata": {},
     "output_type": "display_data"
    },
    {
     "data": {
      "text/html": [
       "<table class=\"dataframe\">\n",
       "<caption>A tibble: 6 × 9</caption>\n",
       "<thead>\n",
       "\t<tr><th scope=col>pregnancies</th><th scope=col>glucose</th><th scope=col>blood_pressure</th><th scope=col>skin_thickness</th><th scope=col>insulin</th><th scope=col>bmi</th><th scope=col>dpf</th><th scope=col>age</th><th scope=col>outcome</th></tr>\n",
       "\t<tr><th scope=col>&lt;dbl&gt;</th><th scope=col>&lt;dbl&gt;</th><th scope=col>&lt;dbl&gt;</th><th scope=col>&lt;dbl&gt;</th><th scope=col>&lt;dbl&gt;</th><th scope=col>&lt;dbl&gt;</th><th scope=col>&lt;dbl&gt;</th><th scope=col>&lt;dbl&gt;</th><th scope=col>&lt;chr&gt;</th></tr>\n",
       "</thead>\n",
       "<tbody>\n",
       "\t<tr><td>6</td><td>148</td><td>72</td><td>35</td><td>  0</td><td>33.6</td><td>0.627</td><td>50</td><td>1</td></tr>\n",
       "\t<tr><td>1</td><td> 85</td><td>66</td><td>29</td><td>  0</td><td>26.6</td><td>0.351</td><td>31</td><td>0</td></tr>\n",
       "\t<tr><td>8</td><td>183</td><td>64</td><td> 0</td><td>  0</td><td>23.3</td><td>0.672</td><td>32</td><td>1</td></tr>\n",
       "\t<tr><td>1</td><td> 89</td><td>66</td><td>23</td><td> 94</td><td>28.1</td><td>0.167</td><td>21</td><td>0</td></tr>\n",
       "\t<tr><td>0</td><td>137</td><td>40</td><td>35</td><td>168</td><td>43.1</td><td>2.288</td><td>33</td><td>1</td></tr>\n",
       "\t<tr><td>5</td><td>116</td><td>74</td><td> 0</td><td>  0</td><td>25.6</td><td>0.201</td><td>30</td><td>0</td></tr>\n",
       "</tbody>\n",
       "</table>\n"
      ],
      "text/latex": [
       "A tibble: 6 × 9\n",
       "\\begin{tabular}{lllllllll}\n",
       " pregnancies & glucose & blood\\_pressure & skin\\_thickness & insulin & bmi & dpf & age & outcome\\\\\n",
       " <dbl> & <dbl> & <dbl> & <dbl> & <dbl> & <dbl> & <dbl> & <dbl> & <chr>\\\\\n",
       "\\hline\n",
       "\t 6 & 148 & 72 & 35 &   0 & 33.6 & 0.627 & 50 & 1\\\\\n",
       "\t 1 &  85 & 66 & 29 &   0 & 26.6 & 0.351 & 31 & 0\\\\\n",
       "\t 8 & 183 & 64 &  0 &   0 & 23.3 & 0.672 & 32 & 1\\\\\n",
       "\t 1 &  89 & 66 & 23 &  94 & 28.1 & 0.167 & 21 & 0\\\\\n",
       "\t 0 & 137 & 40 & 35 & 168 & 43.1 & 2.288 & 33 & 1\\\\\n",
       "\t 5 & 116 & 74 &  0 &   0 & 25.6 & 0.201 & 30 & 0\\\\\n",
       "\\end{tabular}\n"
      ],
      "text/markdown": [
       "\n",
       "A tibble: 6 × 9\n",
       "\n",
       "| pregnancies &lt;dbl&gt; | glucose &lt;dbl&gt; | blood_pressure &lt;dbl&gt; | skin_thickness &lt;dbl&gt; | insulin &lt;dbl&gt; | bmi &lt;dbl&gt; | dpf &lt;dbl&gt; | age &lt;dbl&gt; | outcome &lt;chr&gt; |\n",
       "|---|---|---|---|---|---|---|---|---|\n",
       "| 6 | 148 | 72 | 35 |   0 | 33.6 | 0.627 | 50 | 1 |\n",
       "| 1 |  85 | 66 | 29 |   0 | 26.6 | 0.351 | 31 | 0 |\n",
       "| 8 | 183 | 64 |  0 |   0 | 23.3 | 0.672 | 32 | 1 |\n",
       "| 1 |  89 | 66 | 23 |  94 | 28.1 | 0.167 | 21 | 0 |\n",
       "| 0 | 137 | 40 | 35 | 168 | 43.1 | 2.288 | 33 | 1 |\n",
       "| 5 | 116 | 74 |  0 |   0 | 25.6 | 0.201 | 30 | 0 |\n",
       "\n"
      ],
      "text/plain": [
       "  pregnancies glucose blood_pressure skin_thickness insulin bmi  dpf   age\n",
       "1 6           148     72             35               0     33.6 0.627 50 \n",
       "2 1            85     66             29               0     26.6 0.351 31 \n",
       "3 8           183     64              0               0     23.3 0.672 32 \n",
       "4 1            89     66             23              94     28.1 0.167 21 \n",
       "5 0           137     40             35             168     43.1 2.288 33 \n",
       "6 5           116     74              0               0     25.6 0.201 30 \n",
       "  outcome\n",
       "1 1      \n",
       "2 0      \n",
       "3 1      \n",
       "4 0      \n",
       "5 1      \n",
       "6 0      "
      ]
     },
     "metadata": {},
     "output_type": "display_data"
    }
   ],
   "source": [
    "# Cleaned column names\n",
    "colnames(diabetes_data) <- c(\"pregnancies\", \"glucose\", \"blood_pressure\", \"skin_thickness\", \"insulin\", \"bmi\", \"dpf\", \"age\", \"outcome\")\n",
    "head(diabetes_data)\n",
    "\n",
    "# Casted outcame into chr to change names\n",
    "class(diabetes_data$outcome) = \"chr\"\n",
    "head(diabetes_data)"
   ]
  },
  {
   "cell_type": "code",
   "execution_count": 7,
   "id": "9302d1c0-14c7-4808-a1dd-9408c66ed406",
   "metadata": {
    "tags": []
   },
   "outputs": [
    {
     "data": {
      "text/html": [
       "<table class=\"dataframe\">\n",
       "<caption>A tibble: 6 × 9</caption>\n",
       "<thead>\n",
       "\t<tr><th scope=col>pregnancies</th><th scope=col>glucose</th><th scope=col>blood_pressure</th><th scope=col>skin_thickness</th><th scope=col>insulin</th><th scope=col>bmi</th><th scope=col>dpf</th><th scope=col>age</th><th scope=col>outcome</th></tr>\n",
       "\t<tr><th scope=col>&lt;dbl&gt;</th><th scope=col>&lt;dbl&gt;</th><th scope=col>&lt;dbl&gt;</th><th scope=col>&lt;dbl&gt;</th><th scope=col>&lt;dbl&gt;</th><th scope=col>&lt;dbl&gt;</th><th scope=col>&lt;dbl&gt;</th><th scope=col>&lt;dbl&gt;</th><th scope=col>&lt;fct&gt;</th></tr>\n",
       "</thead>\n",
       "<tbody>\n",
       "\t<tr><td>6</td><td>148</td><td>72</td><td>35</td><td> NA</td><td>33.6</td><td>0.627</td><td>50</td><td>diabetic    </td></tr>\n",
       "\t<tr><td>1</td><td> 85</td><td>66</td><td>29</td><td> NA</td><td>26.6</td><td>0.351</td><td>31</td><td>non-diabetic</td></tr>\n",
       "\t<tr><td>8</td><td>183</td><td>64</td><td>NA</td><td> NA</td><td>23.3</td><td>0.672</td><td>32</td><td>diabetic    </td></tr>\n",
       "\t<tr><td>1</td><td> 89</td><td>66</td><td>23</td><td> 94</td><td>28.1</td><td>0.167</td><td>21</td><td>non-diabetic</td></tr>\n",
       "\t<tr><td>0</td><td>137</td><td>40</td><td>35</td><td>168</td><td>43.1</td><td>2.288</td><td>33</td><td>diabetic    </td></tr>\n",
       "\t<tr><td>5</td><td>116</td><td>74</td><td>NA</td><td> NA</td><td>25.6</td><td>0.201</td><td>30</td><td>non-diabetic</td></tr>\n",
       "</tbody>\n",
       "</table>\n"
      ],
      "text/latex": [
       "A tibble: 6 × 9\n",
       "\\begin{tabular}{lllllllll}\n",
       " pregnancies & glucose & blood\\_pressure & skin\\_thickness & insulin & bmi & dpf & age & outcome\\\\\n",
       " <dbl> & <dbl> & <dbl> & <dbl> & <dbl> & <dbl> & <dbl> & <dbl> & <fct>\\\\\n",
       "\\hline\n",
       "\t 6 & 148 & 72 & 35 &  NA & 33.6 & 0.627 & 50 & diabetic    \\\\\n",
       "\t 1 &  85 & 66 & 29 &  NA & 26.6 & 0.351 & 31 & non-diabetic\\\\\n",
       "\t 8 & 183 & 64 & NA &  NA & 23.3 & 0.672 & 32 & diabetic    \\\\\n",
       "\t 1 &  89 & 66 & 23 &  94 & 28.1 & 0.167 & 21 & non-diabetic\\\\\n",
       "\t 0 & 137 & 40 & 35 & 168 & 43.1 & 2.288 & 33 & diabetic    \\\\\n",
       "\t 5 & 116 & 74 & NA &  NA & 25.6 & 0.201 & 30 & non-diabetic\\\\\n",
       "\\end{tabular}\n"
      ],
      "text/markdown": [
       "\n",
       "A tibble: 6 × 9\n",
       "\n",
       "| pregnancies &lt;dbl&gt; | glucose &lt;dbl&gt; | blood_pressure &lt;dbl&gt; | skin_thickness &lt;dbl&gt; | insulin &lt;dbl&gt; | bmi &lt;dbl&gt; | dpf &lt;dbl&gt; | age &lt;dbl&gt; | outcome &lt;fct&gt; |\n",
       "|---|---|---|---|---|---|---|---|---|\n",
       "| 6 | 148 | 72 | 35 |  NA | 33.6 | 0.627 | 50 | diabetic     |\n",
       "| 1 |  85 | 66 | 29 |  NA | 26.6 | 0.351 | 31 | non-diabetic |\n",
       "| 8 | 183 | 64 | NA |  NA | 23.3 | 0.672 | 32 | diabetic     |\n",
       "| 1 |  89 | 66 | 23 |  94 | 28.1 | 0.167 | 21 | non-diabetic |\n",
       "| 0 | 137 | 40 | 35 | 168 | 43.1 | 2.288 | 33 | diabetic     |\n",
       "| 5 | 116 | 74 | NA |  NA | 25.6 | 0.201 | 30 | non-diabetic |\n",
       "\n"
      ],
      "text/plain": [
       "  pregnancies glucose blood_pressure skin_thickness insulin bmi  dpf   age\n",
       "1 6           148     72             35              NA     33.6 0.627 50 \n",
       "2 1            85     66             29              NA     26.6 0.351 31 \n",
       "3 8           183     64             NA              NA     23.3 0.672 32 \n",
       "4 1            89     66             23              94     28.1 0.167 21 \n",
       "5 0           137     40             35             168     43.1 2.288 33 \n",
       "6 5           116     74             NA              NA     25.6 0.201 30 \n",
       "  outcome     \n",
       "1 diabetic    \n",
       "2 non-diabetic\n",
       "3 diabetic    \n",
       "4 non-diabetic\n",
       "5 diabetic    \n",
       "6 non-diabetic"
      ]
     },
     "metadata": {},
     "output_type": "display_data"
    }
   ],
   "source": [
    "# Replace all 0 with NA\n",
    "diabetes_data$glucose[diabetes_data$glucose == 0] <- NA\n",
    "diabetes_data$skin_thickness[diabetes_data$skin_thickness == 0] <- NA\n",
    "diabetes_data$insulin[diabetes_data$insulin == 0] <- NA\n",
    "diabetes_data$bmi[diabetes_data$bmi == 0] <- NA\n",
    "diabetes_data$dpf[diabetes_data$dpf == 0] <- NA\n",
    "diabetes_data$age[diabetes_data$age == 0] <- NA\n",
    "\n",
    "# Change all 0 to non-diabetic and all 1 to diabetic\n",
    "diabetes_data$outcome[diabetes_data$outcome == 0] <- \"non-diabetic\"\n",
    "diabetes_data$outcome[diabetes_data$outcome == 1] <- \"diabetic\"\n",
    "\n",
    "# Casting outcome into factor\n",
    "DIABETES_DATA <- diabetes_data |>\n",
    "                 mutate(outcome = as.factor(outcome))\n",
    "\n",
    "head(DIABETES_DATA) #~~~THIS IS THE MAIN DATASET TO BE USED, DO NOT REASSIGN."
   ]
  },
  {
   "cell_type": "code",
   "execution_count": null,
   "id": "9dc73ccd-6736-44af-90b1-dc342982ffeb",
   "metadata": {},
   "outputs": [],
   "source": []
  },
  {
   "cell_type": "markdown",
   "id": "34fa4760-21f6-4b70-b1b9-27c6f1532cca",
   "metadata": {},
   "source": [
    "# **TO DO LIST FOR DISCUSSION** (???) (700 words)\n",
    "## - Summary\n",
    "## - Expectations (hypothesis), impact of the finding (application to irl) and future question\n"
   ]
  },
  {
   "cell_type": "markdown",
   "id": "eb14e5fb-fb3b-4088-b743-0641927d3c21",
   "metadata": {},
   "source": [
    "# **THINGS TO KEEP IN MIND**\n",
    "#### - Use set.seed()\n",
    "#### - Lack of explanation for the predictor variables\n",
    "#### - Visuals do not have titles or labels\n",
    "#### - All figures and tables should have table/figure number and legend (when applicable)\n",
    "#### - Our reasoning is off, we need to improve our reasoning"
   ]
  },
  {
   "cell_type": "code",
   "execution_count": null,
   "id": "567b5caf-d3e8-430f-9e5b-a1f45ec2047a",
   "metadata": {},
   "outputs": [],
   "source": []
  }
 ],
 "metadata": {
  "kernelspec": {
   "display_name": "R",
   "language": "R",
   "name": "ir"
  },
  "language_info": {
   "codemirror_mode": "r",
   "file_extension": ".r",
   "mimetype": "text/x-r-source",
   "name": "R",
   "pygments_lexer": "r",
   "version": "4.2.2"
  }
 },
 "nbformat": 4,
 "nbformat_minor": 5
}
